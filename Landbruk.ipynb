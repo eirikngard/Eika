{
  "nbformat": 4,
  "nbformat_minor": 0,
  "metadata": {
    "colab": {
      "name": "Untitled8.ipynb",
      "provenance": [],
      "authorship_tag": "ABX9TyNIl9sJisbHhMZRv3C7dil+",
      "include_colab_link": true
    },
    "kernelspec": {
      "name": "python3",
      "display_name": "Python 3"
    }
  },
  "cells": [
    {
      "cell_type": "markdown",
      "metadata": {
        "id": "view-in-github",
        "colab_type": "text"
      },
      "source": [
        "<a href=\"https://colab.research.google.com/github/eirikngard/Eika/blob/master/Landbruk.ipynb\" target=\"_parent\"><img src=\"https://colab.research.google.com/assets/colab-badge.svg\" alt=\"Open In Colab\"/></a>"
      ]
    },
    {
      "cell_type": "code",
      "metadata": {
        "colab": {
          "resources": {
            "http://localhost:8080/nbextensions/google.colab/files.js": {
              "data": "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",
              "ok": true,
              "headers": [
                [
                  "content-type",
                  "application/javascript"
                ]
              ],
              "status": 200,
              "status_text": "OK"
            }
          },
          "base_uri": "https://localhost:8080/",
          "height": 89
        },
        "id": "LqyhjNihCCTB",
        "outputId": "9a54e169-e5eb-4b53-b4f5-94ce8f5d7e32"
      },
      "source": [
        "import numpy as np\n",
        "import matplotlib.pyplot as plt\n",
        "import pandas as pd\n",
        "from google.colab import files\n",
        "uploaded = files.upload()"
      ],
      "execution_count": 1,
      "outputs": [
        {
          "output_type": "display_data",
          "data": {
            "text/html": [
              "\n",
              "     <input type=\"file\" id=\"files-bf1477df-bd3c-4087-b958-4cfb49f35143\" name=\"files[]\" multiple disabled\n",
              "        style=\"border:none\" />\n",
              "     <output id=\"result-bf1477df-bd3c-4087-b958-4cfb49f35143\">\n",
              "      Upload widget is only available when the cell has been executed in the\n",
              "      current browser session. Please rerun this cell to enable.\n",
              "      </output>\n",
              "      <script src=\"/nbextensions/google.colab/files.js\"></script> "
            ],
            "text/plain": [
              "<IPython.core.display.HTML object>"
            ]
          },
          "metadata": {
            "tags": []
          }
        },
        {
          "output_type": "stream",
          "text": [
            "Saving LE29Q03_201120.XLSX to LE29Q03_201120.XLSX\n"
          ],
          "name": "stdout"
        }
      ]
    },
    {
      "cell_type": "code",
      "metadata": {
        "colab": {
          "base_uri": "https://localhost:8080/",
          "height": 419
        },
        "id": "d5JlhvRmCT3d",
        "outputId": "0207ac84-ec17-4b3d-84c6-03c0b3fa8e20"
      },
      "source": [
        "header = ['Kundenr','Orgnr','Postnr','Kode','Produkt','Forsikringsnr','Årspremie','NACE']\n",
        "data = pd.read_excel('LE29Q03_201120.XLSX',names=header,skiprows=1)#, header=None,skiprows=1,names=navn)\n",
        "\n",
        "#data_kjent = []; data_ukjent = []; data_inn = []; data_lek = []; \n",
        "#data_frost = []; data_til = [];\n",
        "        \n",
        "#for i in år[:-9]:\n",
        "#    inn1 = inn.loc[inn['år']==i,'skade'].sum()\n",
        "data"
      ],
      "execution_count": 6,
      "outputs": [
        {
          "output_type": "execute_result",
          "data": {
            "text/html": [
              "<div>\n",
              "<style scoped>\n",
              "    .dataframe tbody tr th:only-of-type {\n",
              "        vertical-align: middle;\n",
              "    }\n",
              "\n",
              "    .dataframe tbody tr th {\n",
              "        vertical-align: top;\n",
              "    }\n",
              "\n",
              "    .dataframe thead th {\n",
              "        text-align: right;\n",
              "    }\n",
              "</style>\n",
              "<table border=\"1\" class=\"dataframe\">\n",
              "  <thead>\n",
              "    <tr style=\"text-align: right;\">\n",
              "      <th></th>\n",
              "      <th>Kundenr</th>\n",
              "      <th>Orgnr</th>\n",
              "      <th>Postnr</th>\n",
              "      <th>Kode</th>\n",
              "      <th>Produkt</th>\n",
              "      <th>Forsikringsnr</th>\n",
              "      <th>Årspremie</th>\n",
              "      <th>NACE</th>\n",
              "    </tr>\n",
              "  </thead>\n",
              "  <tbody>\n",
              "    <tr>\n",
              "      <th>0</th>\n",
              "      <td>28800</td>\n",
              "      <td>937893833</td>\n",
              "      <td>4760</td>\n",
              "      <td>N16</td>\n",
              "      <td>HELSE</td>\n",
              "      <td>5250155</td>\n",
              "      <td>40261</td>\n",
              "      <td>64.190</td>\n",
              "    </tr>\n",
              "    <tr>\n",
              "      <th>1</th>\n",
              "      <td>28800</td>\n",
              "      <td>937893833</td>\n",
              "      <td>4760</td>\n",
              "      <td>N17</td>\n",
              "      <td>PERSONAL</td>\n",
              "      <td>4883438</td>\n",
              "      <td>111422</td>\n",
              "      <td>64.190</td>\n",
              "    </tr>\n",
              "    <tr>\n",
              "      <th>2</th>\n",
              "      <td>28800</td>\n",
              "      <td>937893833</td>\n",
              "      <td>4760</td>\n",
              "      <td>N20</td>\n",
              "      <td>YRKESSKADE</td>\n",
              "      <td>4883433</td>\n",
              "      <td>27970</td>\n",
              "      <td>64.190</td>\n",
              "    </tr>\n",
              "    <tr>\n",
              "      <th>3</th>\n",
              "      <td>28800</td>\n",
              "      <td>937893833</td>\n",
              "      <td>4760</td>\n",
              "      <td>N25</td>\n",
              "      <td>HUSEIER</td>\n",
              "      <td>2494676</td>\n",
              "      <td>18540</td>\n",
              "      <td>64.190</td>\n",
              "    </tr>\n",
              "    <tr>\n",
              "      <th>4</th>\n",
              "      <td>28800</td>\n",
              "      <td>937893833</td>\n",
              "      <td>4760</td>\n",
              "      <td>N70</td>\n",
              "      <td>BANKDRIFT</td>\n",
              "      <td>2494781</td>\n",
              "      <td>13671</td>\n",
              "      <td>64.190</td>\n",
              "    </tr>\n",
              "    <tr>\n",
              "      <th>...</th>\n",
              "      <td>...</td>\n",
              "      <td>...</td>\n",
              "      <td>...</td>\n",
              "      <td>...</td>\n",
              "      <td>...</td>\n",
              "      <td>...</td>\n",
              "      <td>...</td>\n",
              "      <td>...</td>\n",
              "    </tr>\n",
              "    <tr>\n",
              "      <th>67871</th>\n",
              "      <td>1271930</td>\n",
              "      <td>858996422</td>\n",
              "      <td>1900</td>\n",
              "      <td>N31</td>\n",
              "      <td>DROSJE</td>\n",
              "      <td>6612267</td>\n",
              "      <td>47272</td>\n",
              "      <td>0 .</td>\n",
              "    </tr>\n",
              "    <tr>\n",
              "      <th>67872</th>\n",
              "      <td>1271957</td>\n",
              "      <td>924650001</td>\n",
              "      <td>4824</td>\n",
              "      <td>N25</td>\n",
              "      <td>HUSEIER</td>\n",
              "      <td>6612148</td>\n",
              "      <td>16515</td>\n",
              "      <td>68.209</td>\n",
              "    </tr>\n",
              "    <tr>\n",
              "      <th>67873</th>\n",
              "      <td>1271978</td>\n",
              "      <td>925855294</td>\n",
              "      <td>6011</td>\n",
              "      <td>N33</td>\n",
              "      <td>NÆRINGSBIL</td>\n",
              "      <td>6612287</td>\n",
              "      <td>10821</td>\n",
              "      <td>0 .</td>\n",
              "    </tr>\n",
              "    <tr>\n",
              "      <th>67874</th>\n",
              "      <td>1272129</td>\n",
              "      <td>914926688</td>\n",
              "      <td>4737</td>\n",
              "      <td>N20</td>\n",
              "      <td>YRKESSKADE</td>\n",
              "      <td>6613129</td>\n",
              "      <td>11402</td>\n",
              "      <td>0 .</td>\n",
              "    </tr>\n",
              "    <tr>\n",
              "      <th>67875</th>\n",
              "      <td>1272162</td>\n",
              "      <td>925875945</td>\n",
              "      <td>0650</td>\n",
              "      <td>N33</td>\n",
              "      <td>NÆRINGSBIL</td>\n",
              "      <td>6613374</td>\n",
              "      <td>9174</td>\n",
              "      <td>56.102</td>\n",
              "    </tr>\n",
              "  </tbody>\n",
              "</table>\n",
              "<p>67876 rows × 8 columns</p>\n",
              "</div>"
            ],
            "text/plain": [
              "       Kundenr      Orgnr Postnr  ... Forsikringsnr Årspremie    NACE\n",
              "0        28800  937893833   4760  ...       5250155     40261  64.190\n",
              "1        28800  937893833   4760  ...       4883438    111422  64.190\n",
              "2        28800  937893833   4760  ...       4883433     27970  64.190\n",
              "3        28800  937893833   4760  ...       2494676     18540  64.190\n",
              "4        28800  937893833   4760  ...       2494781     13671  64.190\n",
              "...        ...        ...    ...  ...           ...       ...     ...\n",
              "67871  1271930  858996422   1900  ...       6612267     47272     0 .\n",
              "67872  1271957  924650001   4824  ...       6612148     16515  68.209\n",
              "67873  1271978  925855294   6011  ...       6612287     10821     0 .\n",
              "67874  1272129  914926688   4737  ...       6613129     11402     0 .\n",
              "67875  1272162  925875945   0650  ...       6613374      9174  56.102\n",
              "\n",
              "[67876 rows x 8 columns]"
            ]
          },
          "metadata": {
            "tags": []
          },
          "execution_count": 6
        }
      ]
    },
    {
      "cell_type": "code",
      "metadata": {
        "id": "dmiaYgb1C73V"
      },
      "source": [
        "#data_kjent = []; data_ukjent = []; data_inn = []; data_lek = []; \n",
        "#data_frost = []; data_til = [];\n",
        "        \n",
        "#for i in år[:-9]:\n",
        "#    inn1 = inn.loc[inn['år']==i,'skade'].sum()\n",
        "\n",
        "#analyse, mange med master\n",
        "#pris og produkt, bredree kompetanse med produkt, ressurs i forbindelse med klimarisiko \n",
        "#risk, aktuarfunksjon (underlagt risk, bruker konsulenter i dag). Være med å kontrollere irene (er S2 overholdt). "
      ],
      "execution_count": 7,
      "outputs": []
    },
    {
      "cell_type": "code",
      "metadata": {
        "id": "EtoJPtj3C-Xk"
      },
      "source": [
        "test = data.loc[data['Kode']=='L21','Årspremie'].sum()"
      ],
      "execution_count": 8,
      "outputs": []
    },
    {
      "cell_type": "code",
      "metadata": {
        "id": "H802K84-Eb00"
      },
      "source": [
        "data.loc[data['Kode']=='L21','NACE'].unique() #list all unique values"
      ],
      "execution_count": null,
      "outputs": []
    },
    {
      "cell_type": "code",
      "metadata": {
        "colab": {
          "base_uri": "https://localhost:8080/"
        },
        "id": "TY9viX2lEcxP",
        "outputId": "1c5c952a-23fc-4589-bf89-47747c962e11"
      },
      "source": [
        "data.loc[data['Kode']=='L21','NACE'].value_counts() #count for each NACE\n"
      ],
      "execution_count": 19,
      "outputs": [
        {
          "output_type": "execute_result",
          "data": {
            "text/plain": [
              "43.120    2090\n",
              "0 .        681\n",
              "01.410     522\n",
              "41.200     482\n",
              "01.110     478\n",
              "          ... \n",
              "32.500       1\n",
              "16232        1\n",
              "80.200       1\n",
              "46.381       1\n",
              "00.          1\n",
              "Name: NACE, Length: 330, dtype: int64"
            ]
          },
          "metadata": {
            "tags": []
          },
          "execution_count": 19
        }
      ]
    },
    {
      "cell_type": "code",
      "metadata": {
        "id": "Cyt185y3O8RE"
      },
      "source": [
        "#kategoriene delt inn in 10 og 10 hele tall\n",
        "\n",
        "a=data.loc[(data['Kode']=='L21')&(data['NACE'] == '0.')]#8000\n",
        "b=data.loc[(data['Kode']=='L21')&(data['NACE'] >= '01.000')&(data['NACE'] <= '09.999')]#13 mill\n",
        "c=data.loc[(data['Kode']=='L21')&(data['NACE'] >= '10.000')&(data['NACE'] <= '19.999')]#0\n",
        "d=data.loc[(data['Kode']=='L21')&(data['NACE'] >= '20.000')&(data['NACE'] <= '29.999')]#0\n",
        "e=data.loc[(data['Kode']=='L21')&(data['NACE'] >= '30.000')&(data['NACE'] <= '39.999')]#0\n",
        "f=data.loc[(data['Kode']=='L21')&(data['NACE'] >= '40.000')&(data['NACE'] <= '49.999')]#0"
      ],
      "execution_count": 90,
      "outputs": []
    },
    {
      "cell_type": "code",
      "metadata": {
        "colab": {
          "base_uri": "https://localhost:8080/",
          "height": 265
        },
        "id": "Dn1aKwyckbVM",
        "outputId": "75f649e0-ce56-405e-83ee-bda173a2c3f7"
      },
      "source": [
        "t = np.arange(0,5,1)\n",
        "da = [a,b,c,d,e,f]\n",
        "for i,j in enumerate(da):\n",
        "  plt.plot(i,j['Årspremie'].sum()/(10**6),marker='o', color='r')\n"
      ],
      "execution_count": 92,
      "outputs": [
        {
          "output_type": "display_data",
          "data": {
            "image/png": "[encoded data removed]",
            "text/plain": [
              "<Figure size 432x288 with 1 Axes>"
            ]
          },
          "metadata": {
            "tags": [],
            "needs_background": "light"
          }
        }
      ]
    },
    {
      "cell_type": "code",
      "metadata": {
        "id": "LAQtSbUFjwxw"
      },
      "source": [
        "#De dyreste kategoriene\n",
        "\n",
        "a=data.loc[(data['Kode']=='L21')&(data['NACE'] >= '01.000')&(data['NACE'] <= '03.999')]\n",
        "b=data.loc[(data['Kode']=='L21')&(data['NACE'] >= '05.000')&(data['NACE'] <= '09.999')]\n",
        "c=data.loc[(data['Kode']=='L21')&(data['NACE'] >= '41.000')&(data['NACE'] <= '43.999')]\n",
        "d=data.loc[(data['Kode']=='L21')&(data['NACE'] >= '45.000')&(data['NACE'] <= '47.999')]"
      ],
      "execution_count": 93,
      "outputs": []
    },
    {
      "cell_type": "code",
      "metadata": {
        "id": "_u9hO4iOh9Z0"
      },
      "source": [
        "'''\n",
        "NACE-koder\n",
        "#01-03: Jordbruk, skogbruk og fiske\n",
        "#05-09: bergverksdrift og utvinning\n",
        "#41-43:Bygge- og anleggsvirksomhet\n",
        "#45-47: Varehandel med og reparasjon av motorvogner \n",
        "#48: landtransport og rørtransport \n",
        "\n",
        "#10-33:Industri\n",
        "#\n",
        "'''"
      ],
      "execution_count": null,
      "outputs": []
    },
    {
      "cell_type": "code",
      "metadata": {
        "id": "5oUnm9C9qSmk"
      },
      "source": [
        "#Farger\n",
        "grønn = '#84BD00'\n",
        "blå = '#60C3E6'\n",
        "grå = '#6E6259'\n",
        "blå1='#3396b9'\n",
        "rød='#7f3035'\n",
        "sjøgrønn='#004f59'"
      ],
      "execution_count": 144,
      "outputs": []
    },
    {
      "cell_type": "code",
      "metadata": {
        "colab": {
          "base_uri": "https://localhost:8080/",
          "height": 286
        },
        "id": "Ppa70F4ybmw2",
        "outputId": "07a5ed2d-33f1-4354-9ce7-b18b3d6fef49"
      },
      "source": [
        "t = np.arange(0,5,1)\n",
        "da = [a,b,c,d]; farger = [grønn,blå,grå,sjøgrønn]\n",
        "tit = ['Jordbruk,skogbruk,fiske','Bergutvinning','Bygge- og anleggsvirksomhet',\n",
        "       'Varehandel, reparasjon av motorvogn']\n",
        "fig,ax = plt.subplots()\n",
        "for i,j in enumerate(da):\n",
        "  ax.plot(i,j['Årspremie'].sum()/(10**6),marker='o',color=farger[i],markersize=25,label=tit[i])\n",
        "  ax.legend(bbox_to_anchor=(2.10, 1.01),prop={'size': 15})\n",
        "  ax.set_ylabel('Millioner kr',fontsize=15)\n",
        "  ax.tick_params(axis = 'both', which = 'major', labelsize = 15)\n",
        "  ax.set_ylim(0,30); ax.set_xlim(-0.5,4)\n",
        "  ax.set_title('L21 2020')\n",
        "ax.grid()\n",
        "  #plt.legend(handles=[p[i]], title='title', bbox_to_anchor=(1.05, 1), loc='upper left')\n"
      ],
      "execution_count": 154,
      "outputs": [
        {
          "output_type": "display_data",
          "data": {
            "image/png": "[encoded data removed]",
            "text/plain": [
              "<Figure size 432x288 with 1 Axes>"
            ]
          },
          "metadata": {
            "tags": [],
            "needs_background": "light"
          }
        }
      ]
    },
    {
      "cell_type": "code",
      "metadata": {
        "colab": {
          "base_uri": "https://localhost:8080/"
        },
        "id": "AcKmKCg6dqVs",
        "outputId": "88532fe9-b705-4fad-a569-5de2432f4b23"
      },
      "source": [
        "p"
      ],
      "execution_count": 114,
      "outputs": [
        {
          "output_type": "execute_result",
          "data": {
            "text/plain": [
              "<matplotlib.lines.Line2D at 0x7f3d4c7ff550>"
            ]
          },
          "metadata": {
            "tags": []
          },
          "execution_count": 114
        }
      ]
    },
    {
      "cell_type": "code",
      "metadata": {
        "id": "1bcnWPi4dq8P"
      },
      "source": [
        ""
      ],
      "execution_count": null,
      "outputs": []
    }
  ]
}