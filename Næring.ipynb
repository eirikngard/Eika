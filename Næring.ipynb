{
  "nbformat": 4,
  "nbformat_minor": 0,
  "metadata": {
    "colab": {
      "name": "Untitled8.ipynb",
      "provenance": [],
      "authorship_tag": "ABX9TyPnCFxgGOSufxTrUCNqGP7/",
      "include_colab_link": true
    },
    "kernelspec": {
      "name": "python3",
      "display_name": "Python 3"
    }
  },
  "cells": [
    {
      "cell_type": "markdown",
      "metadata": {
        "id": "view-in-github",
        "colab_type": "text"
      },
      "source": [
        "<a href=\"https://colab.research.google.com/github/eirikngard/Eika/blob/master/N%C3%A6ring.ipynb\" target=\"_parent\"><img src=\"https://colab.research.google.com/assets/colab-badge.svg\" alt=\"Open In Colab\"/></a>"
      ]
    },
    {
      "cell_type": "code",
      "metadata": {
        "id": "Y8GKfzYhsyjM"
      },
      "source": [
        "import numpy as np\n",
        "import matplotlib.pyplot as plt\n",
        "import pandas as pd\n",
        "from google.colab import files\n",
        "uploaded = files.upload()"
      ],
      "execution_count": null,
      "outputs": []
    },
    {
      "cell_type": "code",
      "metadata": {
        "id": "UKdmUFZLsz_J"
      },
      "source": [
        "header = ['Kundenr','Orgnr','Postnr','Kode','Produkt','Forsikringsnr','Årspremie','NACE']\n",
        "data = pd.read_excel('LE29Q03_201120.XLSX',names=header,skiprows=1)#, header=None,skiprows=1,names=navn)\n"
      ],
      "execution_count": null,
      "outputs": []
    },
    {
      "cell_type": "code",
      "metadata": {
        "id": "50xe73wEs3fM"
      },
      "source": [
        "colo = ['#84BD00','#60c3e6','#6e6259',\n",
        "        '#61a100','#3396b9','#928073',\n",
        "        '#509200','#2588ab','#b1a297',\n",
        "        '#408500','#197c9f','#c5beb9','#ac333b']"
      ],
      "execution_count": null,
      "outputs": []
    },
    {
      "cell_type": "code",
      "metadata": {
        "id": "mpCwdsCHs6vp"
      },
      "source": [
        "df1 = data.loc[data['Kode']=='L05']\n",
        "df2 = data.loc[data['Kode']=='L10']\n",
        "df3 = data.loc[data['Kode']=='L15']\n",
        "df4 = data.loc[data['Kode']=='L17']\n",
        "df5 = data.loc[data['Kode']=='L20']\n",
        "df6 = data.loc[data['Kode']=='L21']\n",
        "df7 = data.loc[data['Kode']=='L25']\n",
        "df8 = data.loc[data['Kode']=='L30']\n",
        "df9 = data.loc[data['Kode']=='L35']\n",
        "df10 = data.loc[data['Kode']=='L40']\n",
        "df11= data.loc[data['Kode']=='L45']\n",
        "df12 = data.loc[data['Kode']=='L50']\n",
        "df13 = data.loc[data['Kode']=='L55']\n",
        "#lag dataframe (og mulig fjern duplikater)\n",
        "res = pd.concat([df1,df2,df3,df4,df5,df6,df7,\n",
        "                 df8,df9,df10,df11,df12,df13]).drop_duplicates().reset_index(drop=True)"
      ],
      "execution_count": null,
      "outputs": []
    },
    {
      "cell_type": "code",
      "metadata": {
        "id": "wXZSjp0Rs_v7"
      },
      "source": [
        ""
      ],
      "execution_count": null,
      "outputs": []
    }
  ]
}